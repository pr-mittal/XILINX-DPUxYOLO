{
 "cells": [
  {
   "cell_type": "code",
   "execution_count": 1,
   "metadata": {},
   "outputs": [],
   "source": [
    "import sys\n",
    "import os\n",
    "\n",
    "sys.path.append(os.path.abspath(\"../scripts\"))"
   ]
  },
  {
   "cell_type": "code",
   "execution_count": 2,
   "metadata": {},
   "outputs": [],
   "source": [
    "from score import bb_intersection_over_union, score_group"
   ]
  },
  {
   "cell_type": "code",
   "execution_count": 3,
   "metadata": {},
   "outputs": [
    {
     "name": "stdout",
     "output_type": "stream",
     "text": [
      "Scoring group iSmart\n",
      "Runtime (s): 186.3\n",
      "Energy (J): 885.6\n",
      "Avg Power (W): 4.754\n",
      "# images: 52500\n",
      "iou avg: 0.822\n",
      "fps:  281.8\n"
     ]
    }
   ],
   "source": [
    "group_xml = '../result/iSmart/results.xml'\n",
    "# soln_xml = '/home/xilinx/jupyter_notebooks/dac_sdc_2020/images_3k/'\n",
    "soln_xml = '/home/xilinx/jupyter_notebooks/data_testing'\n",
    "\n",
    "score_group(group_xml, soln_xml)"
   ]
  },
  {
   "cell_type": "code",
   "execution_count": null,
   "metadata": {},
   "outputs": [],
   "source": []
  }
 ],
 "metadata": {
  "kernelspec": {
   "display_name": "Python 3",
   "language": "python",
   "name": "python3"
  },
  "language_info": {
   "codemirror_mode": {
    "name": "ipython",
    "version": 3
   },
   "file_extension": ".py",
   "mimetype": "text/x-python",
   "name": "python",
   "nbconvert_exporter": "python",
   "pygments_lexer": "ipython3",
   "version": "3.6.5"
  }
 },
 "nbformat": 4,
 "nbformat_minor": 2
}
